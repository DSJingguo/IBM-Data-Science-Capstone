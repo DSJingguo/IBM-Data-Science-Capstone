{
 "cells": [
  {
   "cell_type": "markdown",
   "id": "external-killing",
   "metadata": {},
   "source": [
    "<center><font size=5>Clustering the Neighbourhoods of London and Paris </font></center>"
   ]
  },
  {
   "cell_type": "markdown",
   "id": "welsh-refrigerator",
   "metadata": {},
   "source": [
    "# Problematic and project background"
   ]
  },
  {
   "cell_type": "markdown",
   "id": "literary-bibliography",
   "metadata": {},
   "source": [
    "**As the capitals of France and the United Kingdom, Paris and London are also the most prestigious tourist cities in Europe. In terms of economy and culture, these two cities have very high similarities. When large international companies choose to create a new European office in Europe, they often choose Paris and London as candidates. But making a choice is very difficult. Now we try to analyse the neighbourhoods of London and Paris respectively and picture insights to what they look like.**"
   ]
  },
  {
   "cell_type": "markdown",
   "id": "functioning-master",
   "metadata": {},
   "source": [
    "London"
   ]
  },
  {
   "cell_type": "code",
   "execution_count": 19,
   "id": "chinese-battle",
   "metadata": {},
   "outputs": [
    {
     "data": {
      "text/html": [
       "<img src=\"https://london.ac.uk/sites/default/files/styles/promo_large/public/2018-10/london-aerial-cityscape-river-thames_1.jpg\" width=\"400\"/>"
      ],
      "text/plain": [
       "<IPython.core.display.Image object>"
      ]
     },
     "execution_count": 19,
     "metadata": {},
     "output_type": "execute_result"
    }
   ],
   "source": [
    "Image(url= \"https://london.ac.uk/sites/default/files/styles/promo_large/public/2018-10/london-aerial-cityscape-river-thames_1.jpg\",width=400)"
   ]
  },
  {
   "cell_type": "markdown",
   "id": "satellite-internet",
   "metadata": {},
   "source": [
    "Paris"
   ]
  },
  {
   "cell_type": "code",
   "execution_count": 18,
   "id": "frozen-skiing",
   "metadata": {},
   "outputs": [
    {
     "data": {
      "text/html": [
       "<img src=\"https://images.prismic.io/figaroimmo%2F99439d29-f927-483b-9667-d280eaf7d061_shutterstock_1420728554-compressor.jpg\" width=\"400\"/>"
      ],
      "text/plain": [
       "<IPython.core.display.Image object>"
      ]
     },
     "execution_count": 18,
     "metadata": {},
     "output_type": "execute_result"
    }
   ],
   "source": [
    "from IPython.display import Image\n",
    "from IPython.core.display import HTML \n",
    "Image(url= \"https://images.prismic.io/figaroimmo%2F99439d29-f927-483b-9667-d280eaf7d061_shutterstock_1420728554-compressor.jpg\",width=400)"
   ]
  },
  {
   "cell_type": "markdown",
   "id": "artistic-pound",
   "metadata": {},
   "source": [
    "# Data Description"
   ]
  },
  {
   "cell_type": "markdown",
   "id": "plastic-supplier",
   "metadata": {},
   "source": [
    "### London  \n",
    "\n",
    "The data about london areas is available from Wikipedia https://en.wikipedia.org/wiki/List_of_areas_of_London.   \n",
    "we can get all the information about the neighbourhoods\n",
    "\n",
    "1. London borough : Name of Neighbourhood\n",
    "2. Post town : Name of borough\n",
    "3. post_code : Postal codes for London.\n"
   ]
  },
  {
   "cell_type": "markdown",
   "id": "federal-victor",
   "metadata": {},
   "source": [
    "### Paris\n",
    "To derive our solution, We leverage JSON data available at https://www.data.gouv.fr/fr/datasets/r/e88c6fda-1d09-42a0-a069-606d3259114e\n",
    "\n",
    "The JSON file has data about all the neighbourhoods in France.\n",
    "\n",
    "1. postal_code : Postal codes for France\n",
    "2. nom_comm : Name of Neighbourhoods in France\n",
    "3. nom_dept : Name of the boroughs, equivalent to towns in France\n",
    "4. geo_point_2d : Tuple containing the latitude and longitude of the Neighbourhoods."
   ]
  },
  {
   "cell_type": "markdown",
   "id": "according-director",
   "metadata": {},
   "source": [
    "# Lib"
   ]
  },
  {
   "cell_type": "code",
   "execution_count": 35,
   "id": "endangered-shield",
   "metadata": {},
   "outputs": [],
   "source": [
    "import pandas as pd\n",
    "import requests\n",
    "import numpy as np\n",
    "import geopandas as gpd\n",
    "import matplotlib.cm as cm\n",
    "import matplotlib.colors as colors\n",
    "import folium\n",
    "\n",
    "# import k-means for the clustering stage\n",
    "from sklearn.cluster import KMeans\n",
    "\n",
    "import warnings\n",
    "warnings.filterwarnings(\"ignore\")"
   ]
  },
  {
   "cell_type": "markdown",
   "id": "optical-rugby",
   "metadata": {},
   "source": [
    "# London Data"
   ]
  },
  {
   "cell_type": "markdown",
   "id": "superb-authority",
   "metadata": {},
   "source": [
    "## Get london data"
   ]
  },
  {
   "cell_type": "code",
   "execution_count": 41,
   "id": "danish-buffalo",
   "metadata": {},
   "outputs": [
    {
     "data": {
      "text/html": [
       "<div>\n",
       "<style scoped>\n",
       "    .dataframe tbody tr th:only-of-type {\n",
       "        vertical-align: middle;\n",
       "    }\n",
       "\n",
       "    .dataframe tbody tr th {\n",
       "        vertical-align: top;\n",
       "    }\n",
       "\n",
       "    .dataframe thead th {\n",
       "        text-align: right;\n",
       "    }\n",
       "</style>\n",
       "<table border=\"1\" class=\"dataframe\">\n",
       "  <thead>\n",
       "    <tr style=\"text-align: right;\">\n",
       "      <th></th>\n",
       "      <th>Location</th>\n",
       "      <th>London borough</th>\n",
       "      <th>Post town</th>\n",
       "      <th>Postcode district</th>\n",
       "      <th>Dial code</th>\n",
       "      <th>OS grid ref</th>\n",
       "    </tr>\n",
       "  </thead>\n",
       "  <tbody>\n",
       "    <tr>\n",
       "      <th>0</th>\n",
       "      <td>Abbey Wood</td>\n",
       "      <td>Bexley, Greenwich [7]</td>\n",
       "      <td>LONDON</td>\n",
       "      <td>SE2</td>\n",
       "      <td>020</td>\n",
       "      <td>TQ465785</td>\n",
       "    </tr>\n",
       "    <tr>\n",
       "      <th>1</th>\n",
       "      <td>Acton</td>\n",
       "      <td>Ealing, Hammersmith and Fulham[8]</td>\n",
       "      <td>LONDON</td>\n",
       "      <td>W3, W4</td>\n",
       "      <td>020</td>\n",
       "      <td>TQ205805</td>\n",
       "    </tr>\n",
       "    <tr>\n",
       "      <th>2</th>\n",
       "      <td>Addington</td>\n",
       "      <td>Croydon[8]</td>\n",
       "      <td>CROYDON</td>\n",
       "      <td>CR0</td>\n",
       "      <td>020</td>\n",
       "      <td>TQ375645</td>\n",
       "    </tr>\n",
       "    <tr>\n",
       "      <th>3</th>\n",
       "      <td>Addiscombe</td>\n",
       "      <td>Croydon[8]</td>\n",
       "      <td>CROYDON</td>\n",
       "      <td>CR0</td>\n",
       "      <td>020</td>\n",
       "      <td>TQ345665</td>\n",
       "    </tr>\n",
       "    <tr>\n",
       "      <th>4</th>\n",
       "      <td>Albany Park</td>\n",
       "      <td>Bexley</td>\n",
       "      <td>BEXLEY, SIDCUP</td>\n",
       "      <td>DA5, DA14</td>\n",
       "      <td>020</td>\n",
       "      <td>TQ478728</td>\n",
       "    </tr>\n",
       "  </tbody>\n",
       "</table>\n",
       "</div>"
      ],
      "text/plain": [
       "      Location                     London borough       Post town  \\\n",
       "0   Abbey Wood              Bexley, Greenwich [7]          LONDON   \n",
       "1        Acton  Ealing, Hammersmith and Fulham[8]          LONDON   \n",
       "2    Addington                         Croydon[8]         CROYDON   \n",
       "3   Addiscombe                         Croydon[8]         CROYDON   \n",
       "4  Albany Park                             Bexley  BEXLEY, SIDCUP   \n",
       "\n",
       "  Postcode district Dial code OS grid ref  \n",
       "0               SE2       020    TQ465785  \n",
       "1            W3, W4       020    TQ205805  \n",
       "2               CR0       020    TQ375645  \n",
       "3               CR0       020    TQ345665  \n",
       "4         DA5, DA14       020    TQ478728  "
      ]
     },
     "execution_count": 41,
     "metadata": {},
     "output_type": "execute_result"
    }
   ],
   "source": [
    "url_grand_london = \"https://en.wikipedia.org/wiki/List_of_areas_of_London\"\n",
    "wiki_grand_london_url = requests.get(url_grand_london)\n",
    "\n",
    "wiki_grand_london_data = pd.read_html(wiki_grand_london_url.text)\n",
    "\n",
    "grand_london_wiki_df = wiki_grand_london_data[1]\n",
    "grand_london_wiki_df.head()"
   ]
  },
  {
   "cell_type": "markdown",
   "id": "sporting-fifty",
   "metadata": {},
   "source": [
    "## Select columns London borough/Post town/Postcode district"
   ]
  },
  {
   "cell_type": "code",
   "execution_count": 43,
   "id": "built-courtesy",
   "metadata": {},
   "outputs": [
    {
     "data": {
      "text/plain": [
       "Index(['Location', 'London borough', 'Post town', 'Postcode district',\n",
       "       'Dial code', 'OS grid ref'],\n",
       "      dtype='object')"
      ]
     },
     "execution_count": 43,
     "metadata": {},
     "output_type": "execute_result"
    }
   ],
   "source": [
    "grand_london_wiki_df.columns"
   ]
  },
  {
   "cell_type": "code",
   "execution_count": 44,
   "id": "under-disposition",
   "metadata": {
    "scrolled": true
   },
   "outputs": [
    {
     "data": {
      "text/html": [
       "<div>\n",
       "<style scoped>\n",
       "    .dataframe tbody tr th:only-of-type {\n",
       "        vertical-align: middle;\n",
       "    }\n",
       "\n",
       "    .dataframe tbody tr th {\n",
       "        vertical-align: top;\n",
       "    }\n",
       "\n",
       "    .dataframe thead th {\n",
       "        text-align: right;\n",
       "    }\n",
       "</style>\n",
       "<table border=\"1\" class=\"dataframe\">\n",
       "  <thead>\n",
       "    <tr style=\"text-align: right;\">\n",
       "      <th></th>\n",
       "      <th>Borough</th>\n",
       "      <th>Neighbourhood</th>\n",
       "      <th>Post_code</th>\n",
       "    </tr>\n",
       "  </thead>\n",
       "  <tbody>\n",
       "    <tr>\n",
       "      <th>0</th>\n",
       "      <td>Bexley, Greenwich [7]</td>\n",
       "      <td>LONDON</td>\n",
       "      <td>SE2</td>\n",
       "    </tr>\n",
       "    <tr>\n",
       "      <th>1</th>\n",
       "      <td>Ealing, Hammersmith and Fulham[8]</td>\n",
       "      <td>LONDON</td>\n",
       "      <td>W3, W4</td>\n",
       "    </tr>\n",
       "    <tr>\n",
       "      <th>2</th>\n",
       "      <td>Croydon[8]</td>\n",
       "      <td>CROYDON</td>\n",
       "      <td>CR0</td>\n",
       "    </tr>\n",
       "    <tr>\n",
       "      <th>3</th>\n",
       "      <td>Croydon[8]</td>\n",
       "      <td>CROYDON</td>\n",
       "      <td>CR0</td>\n",
       "    </tr>\n",
       "    <tr>\n",
       "      <th>4</th>\n",
       "      <td>Bexley</td>\n",
       "      <td>BEXLEY, SIDCUP</td>\n",
       "      <td>DA5, DA14</td>\n",
       "    </tr>\n",
       "  </tbody>\n",
       "</table>\n",
       "</div>"
      ],
      "text/plain": [
       "                             Borough   Neighbourhood  Post_code\n",
       "0              Bexley, Greenwich [7]          LONDON        SE2\n",
       "1  Ealing, Hammersmith and Fulham[8]          LONDON     W3, W4\n",
       "2                         Croydon[8]         CROYDON        CR0\n",
       "3                         Croydon[8]         CROYDON        CR0\n",
       "4                             Bexley  BEXLEY, SIDCUP  DA5, DA14"
      ]
     },
     "execution_count": 44,
     "metadata": {},
     "output_type": "execute_result"
    }
   ],
   "source": [
    "grand_london_df = grand_london_wiki_df.iloc[:,[1,2,3]]\n",
    "grand_london_df.columns = ['Borough','Neighbourhood','Post_code']\n",
    "grand_london_df.head()"
   ]
  },
  {
   "cell_type": "markdown",
   "id": "collaborative-prompt",
   "metadata": {},
   "source": [
    "Remove [  ] from the Borough column"
   ]
  },
  {
   "cell_type": "code",
   "execution_count": 45,
   "id": "noted-jefferson",
   "metadata": {},
   "outputs": [
    {
     "data": {
      "text/html": [
       "<div>\n",
       "<style scoped>\n",
       "    .dataframe tbody tr th:only-of-type {\n",
       "        vertical-align: middle;\n",
       "    }\n",
       "\n",
       "    .dataframe tbody tr th {\n",
       "        vertical-align: top;\n",
       "    }\n",
       "\n",
       "    .dataframe thead th {\n",
       "        text-align: right;\n",
       "    }\n",
       "</style>\n",
       "<table border=\"1\" class=\"dataframe\">\n",
       "  <thead>\n",
       "    <tr style=\"text-align: right;\">\n",
       "      <th></th>\n",
       "      <th>Borough</th>\n",
       "      <th>Neighbourhood</th>\n",
       "      <th>Post_code</th>\n",
       "    </tr>\n",
       "  </thead>\n",
       "  <tbody>\n",
       "    <tr>\n",
       "      <th>0</th>\n",
       "      <td>Bexley, Greenwich</td>\n",
       "      <td>LONDON</td>\n",
       "      <td>SE2</td>\n",
       "    </tr>\n",
       "    <tr>\n",
       "      <th>1</th>\n",
       "      <td>Ealing, Hammersmith and Fulham</td>\n",
       "      <td>LONDON</td>\n",
       "      <td>W3, W4</td>\n",
       "    </tr>\n",
       "    <tr>\n",
       "      <th>2</th>\n",
       "      <td>Croydon</td>\n",
       "      <td>CROYDON</td>\n",
       "      <td>CR0</td>\n",
       "    </tr>\n",
       "    <tr>\n",
       "      <th>3</th>\n",
       "      <td>Croydon</td>\n",
       "      <td>CROYDON</td>\n",
       "      <td>CR0</td>\n",
       "    </tr>\n",
       "    <tr>\n",
       "      <th>4</th>\n",
       "      <td>Bexley</td>\n",
       "      <td>BEXLEY, SIDCUP</td>\n",
       "      <td>DA5, DA14</td>\n",
       "    </tr>\n",
       "  </tbody>\n",
       "</table>\n",
       "</div>"
      ],
      "text/plain": [
       "                          Borough   Neighbourhood  Post_code\n",
       "0               Bexley, Greenwich          LONDON        SE2\n",
       "1  Ealing, Hammersmith and Fulham          LONDON     W3, W4\n",
       "2                         Croydon         CROYDON        CR0\n",
       "3                         Croydon         CROYDON        CR0\n",
       "4                          Bexley  BEXLEY, SIDCUP  DA5, DA14"
      ]
     },
     "execution_count": 45,
     "metadata": {},
     "output_type": "execute_result"
    }
   ],
   "source": [
    "grand_london_df['Borough'] = grand_london_df['Borough'].map(lambda x: x.split('[')[0].strip())\n",
    "grand_london_df.head()"
   ]
  },
  {
   "cell_type": "markdown",
   "id": "roman-leisure",
   "metadata": {},
   "source": [
    "## Select the areas only in London"
   ]
  },
  {
   "cell_type": "code",
   "execution_count": 77,
   "id": "official-brunei",
   "metadata": {},
   "outputs": [
    {
     "data": {
      "text/html": [
       "<div>\n",
       "<style scoped>\n",
       "    .dataframe tbody tr th:only-of-type {\n",
       "        vertical-align: middle;\n",
       "    }\n",
       "\n",
       "    .dataframe tbody tr th {\n",
       "        vertical-align: top;\n",
       "    }\n",
       "\n",
       "    .dataframe thead th {\n",
       "        text-align: right;\n",
       "    }\n",
       "</style>\n",
       "<table border=\"1\" class=\"dataframe\">\n",
       "  <thead>\n",
       "    <tr style=\"text-align: right;\">\n",
       "      <th></th>\n",
       "      <th>Borough</th>\n",
       "      <th>Neighbourhood</th>\n",
       "      <th>Post_code</th>\n",
       "    </tr>\n",
       "  </thead>\n",
       "  <tbody>\n",
       "    <tr>\n",
       "      <th>0</th>\n",
       "      <td>Bexley, Greenwich</td>\n",
       "      <td>LONDON</td>\n",
       "      <td>SE2</td>\n",
       "    </tr>\n",
       "    <tr>\n",
       "      <th>1</th>\n",
       "      <td>Ealing, Hammersmith and Fulham</td>\n",
       "      <td>LONDON</td>\n",
       "      <td>W3, W4</td>\n",
       "    </tr>\n",
       "    <tr>\n",
       "      <th>2</th>\n",
       "      <td>City</td>\n",
       "      <td>LONDON</td>\n",
       "      <td>EC3</td>\n",
       "    </tr>\n",
       "    <tr>\n",
       "      <th>3</th>\n",
       "      <td>Westminster</td>\n",
       "      <td>LONDON</td>\n",
       "      <td>WC2</td>\n",
       "    </tr>\n",
       "    <tr>\n",
       "      <th>4</th>\n",
       "      <td>Bromley</td>\n",
       "      <td>LONDON</td>\n",
       "      <td>SE20</td>\n",
       "    </tr>\n",
       "  </tbody>\n",
       "</table>\n",
       "</div>"
      ],
      "text/plain": [
       "                          Borough Neighbourhood Post_code\n",
       "0               Bexley, Greenwich        LONDON       SE2\n",
       "1  Ealing, Hammersmith and Fulham        LONDON    W3, W4\n",
       "2                            City        LONDON       EC3\n",
       "3                     Westminster        LONDON       WC2\n",
       "4                         Bromley        LONDON      SE20"
      ]
     },
     "execution_count": 77,
     "metadata": {},
     "output_type": "execute_result"
    }
   ],
   "source": [
    "london_df = grand_london_df[grand_london_df['Neighbourhood'].str.contains('LONDON')]\n",
    "london_df.reset_index(drop=True,inplace=True)\n",
    "london_df.head()"
   ]
  },
  {
   "cell_type": "code",
   "execution_count": 78,
   "id": "inner-spotlight",
   "metadata": {},
   "outputs": [
    {
     "data": {
      "text/plain": [
       "(308, 3)"
      ]
     },
     "execution_count": 78,
     "metadata": {},
     "output_type": "execute_result"
    }
   ],
   "source": [
    "london_df.shape"
   ]
  },
  {
   "cell_type": "markdown",
   "id": "exempt-right",
   "metadata": {},
   "source": [
    "## Add Geolocations for London Neighbourhoods"
   ]
  },
  {
   "cell_type": "code",
   "execution_count": 79,
   "id": "neither-leone",
   "metadata": {},
   "outputs": [],
   "source": [
    "from arcgis.geocoding import geocode\n",
    "from arcgis.gis import GIS\n",
    "gis = GIS()"
   ]
  },
  {
   "cell_type": "markdown",
   "id": "criminal-reconstruction",
   "metadata": {},
   "source": [
    "### Function to get the geo 2D position"
   ]
  },
  {
   "cell_type": "markdown",
   "id": "defined-showcase",
   "metadata": {},
   "source": [
    "UK"
   ]
  },
  {
   "cell_type": "code",
   "execution_count": 81,
   "id": "arabic-kuwait",
   "metadata": {},
   "outputs": [],
   "source": [
    "# For Canada\n",
    "def get_2D_UK(address):\n",
    "    lat_coords = 0\n",
    "    lng_coords = 0\n",
    "    g = geocode(address='{}, England, GBR'.format(address))[0]\n",
    "    lng_coords = g['location']['x']\n",
    "    lat_coords = g['location']['y']\n",
    "    return [str(lat_coords), str(lng_coords)]"
   ]
  },
  {
   "cell_type": "markdown",
   "id": "sustainable-transportation",
   "metadata": {},
   "source": [
    "Test the geo function"
   ]
  },
  {
   "cell_type": "code",
   "execution_count": 82,
   "id": "numeric-cartoon",
   "metadata": {},
   "outputs": [
    {
     "data": {
      "text/plain": [
       "['51.51324000000005', '-0.2674599999999714']"
      ]
     },
     "execution_count": 82,
     "metadata": {},
     "output_type": "execute_result"
    }
   ],
   "source": [
    "get_2D_UK('W3, W4')"
   ]
  },
  {
   "cell_type": "markdown",
   "id": "through-health",
   "metadata": {},
   "source": [
    "Get the London postal code series"
   ]
  },
  {
   "cell_type": "code",
   "execution_count": 83,
   "id": "electoral-relief",
   "metadata": {},
   "outputs": [
    {
     "data": {
      "text/plain": [
       "0       SE2\n",
       "1    W3, W4\n",
       "2       EC3\n",
       "3       WC2\n",
       "4      SE20\n",
       "Name: Post_code, dtype: object"
      ]
     },
     "execution_count": 83,
     "metadata": {},
     "output_type": "execute_result"
    }
   ],
   "source": [
    "london_postalcode = london_df['Post_code']\n",
    "london_postalcode.head()"
   ]
  },
  {
   "cell_type": "markdown",
   "id": "pressed-variety",
   "metadata": {},
   "source": [
    "### Query geo 2D position"
   ]
  },
  {
   "cell_type": "markdown",
   "id": "seeing-township",
   "metadata": {},
   "source": [
    "According the postal code, retrieve the 2D geo positions"
   ]
  },
  {
   "cell_type": "code",
   "execution_count": 84,
   "id": "personal-irish",
   "metadata": {},
   "outputs": [
    {
     "data": {
      "text/plain": [
       "0    [51.492450000000076, 0.12127000000003818]\n",
       "1     [51.51324000000005, -0.2674599999999714]\n",
       "2    [51.51200000000006, -0.08057999999994081]\n",
       "3    [51.51651000000004, -0.11967999999995982]\n",
       "4     [51.48249000000004, 0.11919361600007505]\n",
       "Name: Post_code, dtype: object"
      ]
     },
     "execution_count": 84,
     "metadata": {},
     "output_type": "execute_result"
    }
   ],
   "source": [
    "london_geo_2D = london_postalcode.apply(lambda x: get_2D_UK(x))\n",
    "london_geo_2D.head()"
   ]
  },
  {
   "cell_type": "markdown",
   "id": "ecological-guidance",
   "metadata": {},
   "source": [
    "Merge the tow dataframe into one"
   ]
  },
  {
   "cell_type": "code",
   "execution_count": 85,
   "id": "significant-performer",
   "metadata": {},
   "outputs": [
    {
     "data": {
      "text/html": [
       "<div>\n",
       "<style scoped>\n",
       "    .dataframe tbody tr th:only-of-type {\n",
       "        vertical-align: middle;\n",
       "    }\n",
       "\n",
       "    .dataframe tbody tr th {\n",
       "        vertical-align: top;\n",
       "    }\n",
       "\n",
       "    .dataframe thead th {\n",
       "        text-align: right;\n",
       "    }\n",
       "</style>\n",
       "<table border=\"1\" class=\"dataframe\">\n",
       "  <thead>\n",
       "    <tr style=\"text-align: right;\">\n",
       "      <th></th>\n",
       "      <th>Borough</th>\n",
       "      <th>Neighbourhood</th>\n",
       "      <th>Post_code</th>\n",
       "      <th>geo_2D</th>\n",
       "    </tr>\n",
       "  </thead>\n",
       "  <tbody>\n",
       "    <tr>\n",
       "      <th>0</th>\n",
       "      <td>Bexley, Greenwich</td>\n",
       "      <td>LONDON</td>\n",
       "      <td>SE2</td>\n",
       "      <td>[51.492450000000076, 0.12127000000003818]</td>\n",
       "    </tr>\n",
       "    <tr>\n",
       "      <th>1</th>\n",
       "      <td>Ealing, Hammersmith and Fulham</td>\n",
       "      <td>LONDON</td>\n",
       "      <td>W3, W4</td>\n",
       "      <td>[51.51324000000005, -0.2674599999999714]</td>\n",
       "    </tr>\n",
       "    <tr>\n",
       "      <th>2</th>\n",
       "      <td>City</td>\n",
       "      <td>LONDON</td>\n",
       "      <td>EC3</td>\n",
       "      <td>[51.51200000000006, -0.08057999999994081]</td>\n",
       "    </tr>\n",
       "    <tr>\n",
       "      <th>3</th>\n",
       "      <td>Westminster</td>\n",
       "      <td>LONDON</td>\n",
       "      <td>WC2</td>\n",
       "      <td>[51.51651000000004, -0.11967999999995982]</td>\n",
       "    </tr>\n",
       "    <tr>\n",
       "      <th>4</th>\n",
       "      <td>Bromley</td>\n",
       "      <td>LONDON</td>\n",
       "      <td>SE20</td>\n",
       "      <td>[51.48249000000004, 0.11919361600007505]</td>\n",
       "    </tr>\n",
       "  </tbody>\n",
       "</table>\n",
       "</div>"
      ],
      "text/plain": [
       "                          Borough Neighbourhood Post_code  \\\n",
       "0               Bexley, Greenwich        LONDON       SE2   \n",
       "1  Ealing, Hammersmith and Fulham        LONDON    W3, W4   \n",
       "2                            City        LONDON       EC3   \n",
       "3                     Westminster        LONDON       WC2   \n",
       "4                         Bromley        LONDON      SE20   \n",
       "\n",
       "                                      geo_2D  \n",
       "0  [51.492450000000076, 0.12127000000003818]  \n",
       "1   [51.51324000000005, -0.2674599999999714]  \n",
       "2  [51.51200000000006, -0.08057999999994081]  \n",
       "3  [51.51651000000004, -0.11967999999995982]  \n",
       "4   [51.48249000000004, 0.11919361600007505]  "
      ]
     },
     "execution_count": 85,
     "metadata": {},
     "output_type": "execute_result"
    }
   ],
   "source": [
    "london_geo_2D.name='geo_2D'\n",
    "london_merged = pd.concat([london_df,london_geo_2D], axis=1)\n",
    "london_merged.head()"
   ]
  },
  {
   "cell_type": "markdown",
   "id": "fallen-economics",
   "metadata": {},
   "source": [
    "### Construct the final dataframe london"
   ]
  },
  {
   "cell_type": "code",
   "execution_count": 86,
   "id": "advisory-mother",
   "metadata": {},
   "outputs": [
    {
     "data": {
      "text/html": [
       "<div>\n",
       "<style scoped>\n",
       "    .dataframe tbody tr th:only-of-type {\n",
       "        vertical-align: middle;\n",
       "    }\n",
       "\n",
       "    .dataframe tbody tr th {\n",
       "        vertical-align: top;\n",
       "    }\n",
       "\n",
       "    .dataframe thead th {\n",
       "        text-align: right;\n",
       "    }\n",
       "</style>\n",
       "<table border=\"1\" class=\"dataframe\">\n",
       "  <thead>\n",
       "    <tr style=\"text-align: right;\">\n",
       "      <th></th>\n",
       "      <th>Borough</th>\n",
       "      <th>Neighbourhood</th>\n",
       "      <th>Post_code</th>\n",
       "      <th>latitude</th>\n",
       "      <th>longitude</th>\n",
       "    </tr>\n",
       "  </thead>\n",
       "  <tbody>\n",
       "    <tr>\n",
       "      <th>0</th>\n",
       "      <td>Bexley, Greenwich</td>\n",
       "      <td>LONDON</td>\n",
       "      <td>SE2</td>\n",
       "      <td>51.49245</td>\n",
       "      <td>0.121270</td>\n",
       "    </tr>\n",
       "    <tr>\n",
       "      <th>1</th>\n",
       "      <td>Ealing, Hammersmith and Fulham</td>\n",
       "      <td>LONDON</td>\n",
       "      <td>W3, W4</td>\n",
       "      <td>51.51324</td>\n",
       "      <td>-0.267460</td>\n",
       "    </tr>\n",
       "    <tr>\n",
       "      <th>2</th>\n",
       "      <td>City</td>\n",
       "      <td>LONDON</td>\n",
       "      <td>EC3</td>\n",
       "      <td>51.51200</td>\n",
       "      <td>-0.080580</td>\n",
       "    </tr>\n",
       "    <tr>\n",
       "      <th>3</th>\n",
       "      <td>Westminster</td>\n",
       "      <td>LONDON</td>\n",
       "      <td>WC2</td>\n",
       "      <td>51.51651</td>\n",
       "      <td>-0.119680</td>\n",
       "    </tr>\n",
       "    <tr>\n",
       "      <th>4</th>\n",
       "      <td>Bromley</td>\n",
       "      <td>LONDON</td>\n",
       "      <td>SE20</td>\n",
       "      <td>51.48249</td>\n",
       "      <td>0.119194</td>\n",
       "    </tr>\n",
       "  </tbody>\n",
       "</table>\n",
       "</div>"
      ],
      "text/plain": [
       "                          Borough Neighbourhood Post_code  latitude  longitude\n",
       "0               Bexley, Greenwich        LONDON       SE2  51.49245   0.121270\n",
       "1  Ealing, Hammersmith and Fulham        LONDON    W3, W4  51.51324  -0.267460\n",
       "2                            City        LONDON       EC3  51.51200  -0.080580\n",
       "3                     Westminster        LONDON       WC2  51.51651  -0.119680\n",
       "4                         Bromley        LONDON      SE20  51.48249   0.119194"
      ]
     },
     "execution_count": 86,
     "metadata": {},
     "output_type": "execute_result"
    }
   ],
   "source": [
    "london_merged['latitude'] = london_merged['geo_2D'].apply(lambda x: float(x[0]))\n",
    "london_merged['longitude'] = london_merged['geo_2D'].apply(lambda x: float(x[1]))\n",
    "london_merged.drop(['geo_2D'], axis=1, inplace=True)\n",
    "london_merged.head()"
   ]
  },
  {
   "cell_type": "code",
   "execution_count": 88,
   "id": "streaming-twins",
   "metadata": {
    "scrolled": true
   },
   "outputs": [
    {
     "name": "stdout",
     "output_type": "stream",
     "text": [
      "(308, 3)\n",
      "(308, 5)\n"
     ]
    }
   ],
   "source": [
    "print(london_df.shape)\n",
    "print(london_merged.shape)"
   ]
  },
  {
   "cell_type": "markdown",
   "id": "solar-mechanics",
   "metadata": {},
   "source": [
    "Check the rows for before and after the combination, nothing missed. it's great!"
   ]
  },
  {
   "cell_type": "markdown",
   "id": "opposed-sense",
   "metadata": {},
   "source": [
    "# Paris Data"
   ]
  },
  {
   "cell_type": "markdown",
   "id": "directed-assignment",
   "metadata": {},
   "source": [
    "## Import data"
   ]
  },
  {
   "cell_type": "code",
   "execution_count": 158,
   "id": "configured-kitty",
   "metadata": {},
   "outputs": [
    {
     "data": {
      "text/html": [
       "<div>\n",
       "<style scoped>\n",
       "    .dataframe tbody tr th:only-of-type {\n",
       "        vertical-align: middle;\n",
       "    }\n",
       "\n",
       "    .dataframe tbody tr th {\n",
       "        vertical-align: top;\n",
       "    }\n",
       "\n",
       "    .dataframe thead th {\n",
       "        text-align: right;\n",
       "    }\n",
       "</style>\n",
       "<table border=\"1\" class=\"dataframe\">\n",
       "  <thead>\n",
       "    <tr style=\"text-align: right;\">\n",
       "      <th></th>\n",
       "      <th>datasetid</th>\n",
       "      <th>recordid</th>\n",
       "      <th>record_timestamp</th>\n",
       "      <th>fields.code_comm</th>\n",
       "      <th>fields.nom_dept</th>\n",
       "      <th>fields.statut</th>\n",
       "      <th>fields.z_moyen</th>\n",
       "      <th>fields.nom_region</th>\n",
       "      <th>fields.code_reg</th>\n",
       "      <th>fields.insee_com</th>\n",
       "      <th>...</th>\n",
       "      <th>fields.id_geofla</th>\n",
       "      <th>fields.code_cant</th>\n",
       "      <th>fields.geo_shape.type</th>\n",
       "      <th>fields.geo_shape.coordinates</th>\n",
       "      <th>fields.superficie</th>\n",
       "      <th>fields.nom_comm</th>\n",
       "      <th>fields.code_arr</th>\n",
       "      <th>fields.population</th>\n",
       "      <th>geometry.type</th>\n",
       "      <th>geometry.coordinates</th>\n",
       "    </tr>\n",
       "  </thead>\n",
       "  <tbody>\n",
       "    <tr>\n",
       "      <th>0</th>\n",
       "      <td>correspondances-code-insee-code-postal</td>\n",
       "      <td>2bf36b38314b6c39dfbcd09225f97fa532b1fc45</td>\n",
       "      <td>2016-09-21T00:29:06.175+02:00</td>\n",
       "      <td>645</td>\n",
       "      <td>ESSONNE</td>\n",
       "      <td>Commune simple</td>\n",
       "      <td>121.0</td>\n",
       "      <td>ILE-DE-FRANCE</td>\n",
       "      <td>11</td>\n",
       "      <td>91645</td>\n",
       "      <td>...</td>\n",
       "      <td>16275</td>\n",
       "      <td>03</td>\n",
       "      <td>Polygon</td>\n",
       "      <td>[[[2.238024349288764, 48.735565859837095], [2....</td>\n",
       "      <td>999.0</td>\n",
       "      <td>VERRIERES-LE-BUISSON</td>\n",
       "      <td>3</td>\n",
       "      <td>15.5</td>\n",
       "      <td>Point</td>\n",
       "      <td>[2.251712972144151, 48.750443119964764]</td>\n",
       "    </tr>\n",
       "    <tr>\n",
       "      <th>1</th>\n",
       "      <td>correspondances-code-insee-code-postal</td>\n",
       "      <td>7ee82e74e059b443df18bb79fc5a19b1f05e5a88</td>\n",
       "      <td>2016-09-21T00:29:06.175+02:00</td>\n",
       "      <td>133</td>\n",
       "      <td>SEINE-ET-MARNE</td>\n",
       "      <td>Commune simple</td>\n",
       "      <td>88.0</td>\n",
       "      <td>ILE-DE-FRANCE</td>\n",
       "      <td>11</td>\n",
       "      <td>77133</td>\n",
       "      <td>...</td>\n",
       "      <td>31428</td>\n",
       "      <td>20</td>\n",
       "      <td>Polygon</td>\n",
       "      <td>[[[3.076046701822989, 48.397361878531605], [3....</td>\n",
       "      <td>1082.0</td>\n",
       "      <td>COURCELLES-EN-BASSEE</td>\n",
       "      <td>3</td>\n",
       "      <td>0.2</td>\n",
       "      <td>Point</td>\n",
       "      <td>[3.052940505560729, 48.41256065214989]</td>\n",
       "    </tr>\n",
       "    <tr>\n",
       "      <th>2</th>\n",
       "      <td>correspondances-code-insee-code-postal</td>\n",
       "      <td>e2cd3186f07286705ed482a10b6aebd9de633c81</td>\n",
       "      <td>2016-09-21T00:29:06.175+02:00</td>\n",
       "      <td>378</td>\n",
       "      <td>ESSONNE</td>\n",
       "      <td>Commune simple</td>\n",
       "      <td>150.0</td>\n",
       "      <td>ILE-DE-FRANCE</td>\n",
       "      <td>11</td>\n",
       "      <td>91378</td>\n",
       "      <td>...</td>\n",
       "      <td>30975</td>\n",
       "      <td>09</td>\n",
       "      <td>Polygon</td>\n",
       "      <td>[[[2.203466690733517, 48.51655284725087], [2.1...</td>\n",
       "      <td>313.0</td>\n",
       "      <td>MAUCHAMPS</td>\n",
       "      <td>1</td>\n",
       "      <td>0.3</td>\n",
       "      <td>Point</td>\n",
       "      <td>[2.19718165044305, 48.52726809075556]</td>\n",
       "    </tr>\n",
       "    <tr>\n",
       "      <th>3</th>\n",
       "      <td>correspondances-code-insee-code-postal</td>\n",
       "      <td>868bf03527a1d0a9defe5cf4e6fa0a730d725699</td>\n",
       "      <td>2016-09-21T00:29:06.175+02:00</td>\n",
       "      <td>243</td>\n",
       "      <td>SEINE-ET-MARNE</td>\n",
       "      <td>Chef-lieu canton</td>\n",
       "      <td>71.0</td>\n",
       "      <td>ILE-DE-FRANCE</td>\n",
       "      <td>11</td>\n",
       "      <td>77243</td>\n",
       "      <td>...</td>\n",
       "      <td>17000</td>\n",
       "      <td>14</td>\n",
       "      <td>Polygon</td>\n",
       "      <td>[[[2.727542158243183, 48.85975862454365], [2.7...</td>\n",
       "      <td>579.0</td>\n",
       "      <td>LAGNY-SUR-MARNE</td>\n",
       "      <td>5</td>\n",
       "      <td>20.2</td>\n",
       "      <td>Point</td>\n",
       "      <td>[2.7097808131278462, 48.87307018579678]</td>\n",
       "    </tr>\n",
       "    <tr>\n",
       "      <th>4</th>\n",
       "      <td>correspondances-code-insee-code-postal</td>\n",
       "      <td>21e809b1d4480333c8b6fe7addd8f3b06f343e2c</td>\n",
       "      <td>2016-09-21T00:29:06.175+02:00</td>\n",
       "      <td>003</td>\n",
       "      <td>VAL-DE-MARNE</td>\n",
       "      <td>Chef-lieu canton</td>\n",
       "      <td>70.0</td>\n",
       "      <td>ILE-DE-FRANCE</td>\n",
       "      <td>11</td>\n",
       "      <td>94003</td>\n",
       "      <td>...</td>\n",
       "      <td>32123</td>\n",
       "      <td>34</td>\n",
       "      <td>Polygon</td>\n",
       "      <td>[[[2.34385114554979, 48.79766105911435], [2.32...</td>\n",
       "      <td>232.0</td>\n",
       "      <td>ARCUEIL</td>\n",
       "      <td>3</td>\n",
       "      <td>19.5</td>\n",
       "      <td>Point</td>\n",
       "      <td>[2.333510249842654, 48.80588035965699]</td>\n",
       "    </tr>\n",
       "    <tr>\n",
       "      <th>...</th>\n",
       "      <td>...</td>\n",
       "      <td>...</td>\n",
       "      <td>...</td>\n",
       "      <td>...</td>\n",
       "      <td>...</td>\n",
       "      <td>...</td>\n",
       "      <td>...</td>\n",
       "      <td>...</td>\n",
       "      <td>...</td>\n",
       "      <td>...</td>\n",
       "      <td>...</td>\n",
       "      <td>...</td>\n",
       "      <td>...</td>\n",
       "      <td>...</td>\n",
       "      <td>...</td>\n",
       "      <td>...</td>\n",
       "      <td>...</td>\n",
       "      <td>...</td>\n",
       "      <td>...</td>\n",
       "      <td>...</td>\n",
       "      <td>...</td>\n",
       "    </tr>\n",
       "    <tr>\n",
       "      <th>1295</th>\n",
       "      <td>correspondances-code-insee-code-postal</td>\n",
       "      <td>e48340f14024559a7602be7aa5167cf2af29b459</td>\n",
       "      <td>2016-09-21T00:29:06.175+02:00</td>\n",
       "      <td>068</td>\n",
       "      <td>SEINE-ET-MARNE</td>\n",
       "      <td>Commune simple</td>\n",
       "      <td>137.0</td>\n",
       "      <td>ILE-DE-FRANCE</td>\n",
       "      <td>11</td>\n",
       "      <td>77068</td>\n",
       "      <td>...</td>\n",
       "      <td>21587</td>\n",
       "      <td>10</td>\n",
       "      <td>Polygon</td>\n",
       "      <td>[[[3.161508435480842, 48.49807082682062], [3.1...</td>\n",
       "      <td>529.0</td>\n",
       "      <td>CESSOY-EN-MONTOIS</td>\n",
       "      <td>3</td>\n",
       "      <td>0.2</td>\n",
       "      <td>Point</td>\n",
       "      <td>[3.138844194183689, 48.50730730461658]</td>\n",
       "    </tr>\n",
       "    <tr>\n",
       "      <th>1296</th>\n",
       "      <td>correspondances-code-insee-code-postal</td>\n",
       "      <td>64afe3728721b9954d7f2da353419df0d4b88b4e</td>\n",
       "      <td>2016-09-21T00:29:06.175+02:00</td>\n",
       "      <td>078</td>\n",
       "      <td>SEINE-SAINT-DENIS</td>\n",
       "      <td>Chef-lieu canton</td>\n",
       "      <td>65.0</td>\n",
       "      <td>ILE-DE-FRANCE</td>\n",
       "      <td>11</td>\n",
       "      <td>93078</td>\n",
       "      <td>...</td>\n",
       "      <td>24704</td>\n",
       "      <td>40</td>\n",
       "      <td>Polygon</td>\n",
       "      <td>[[[2.557045023117815, 48.935302946618414], [2....</td>\n",
       "      <td>1042.0</td>\n",
       "      <td>VILLEPINTE</td>\n",
       "      <td>2</td>\n",
       "      <td>35.7</td>\n",
       "      <td>Point</td>\n",
       "      <td>[2.536306342059409, 48.95902025378707]</td>\n",
       "    </tr>\n",
       "    <tr>\n",
       "      <th>1297</th>\n",
       "      <td>correspondances-code-insee-code-postal</td>\n",
       "      <td>24353a5117491797d2ef35d0ab6a179b6d9c254f</td>\n",
       "      <td>2016-09-21T00:29:06.175+02:00</td>\n",
       "      <td>061</td>\n",
       "      <td>SEINE-ET-MARNE</td>\n",
       "      <td>Commune simple</td>\n",
       "      <td>60.0</td>\n",
       "      <td>ILE-DE-FRANCE</td>\n",
       "      <td>11</td>\n",
       "      <td>77061</td>\n",
       "      <td>...</td>\n",
       "      <td>20172</td>\n",
       "      <td>20</td>\n",
       "      <td>Polygon</td>\n",
       "      <td>[[[3.004939078607779, 48.33869986171514], [3.0...</td>\n",
       "      <td>862.0</td>\n",
       "      <td>CANNES-ECLUSE</td>\n",
       "      <td>3</td>\n",
       "      <td>2.6</td>\n",
       "      <td>Point</td>\n",
       "      <td>[2.990786679832767, 48.36403767307805]</td>\n",
       "    </tr>\n",
       "    <tr>\n",
       "      <th>1298</th>\n",
       "      <td>correspondances-code-insee-code-postal</td>\n",
       "      <td>47a9cca82e7c9fdea46fa74a7731f9be64785b09</td>\n",
       "      <td>2016-09-21T00:29:06.175+02:00</td>\n",
       "      <td>677</td>\n",
       "      <td>YVELINES</td>\n",
       "      <td>Commune simple</td>\n",
       "      <td>96.0</td>\n",
       "      <td>ILE-DE-FRANCE</td>\n",
       "      <td>11</td>\n",
       "      <td>78677</td>\n",
       "      <td>...</td>\n",
       "      <td>24364</td>\n",
       "      <td>07</td>\n",
       "      <td>Polygon</td>\n",
       "      <td>[[[1.702290092689364, 48.91216884312589], [1.6...</td>\n",
       "      <td>462.0</td>\n",
       "      <td>VILLETTE</td>\n",
       "      <td>1</td>\n",
       "      <td>0.5</td>\n",
       "      <td>Point</td>\n",
       "      <td>[1.6937417245662671, 48.92627887061508]</td>\n",
       "    </tr>\n",
       "    <tr>\n",
       "      <th>1299</th>\n",
       "      <td>correspondances-code-insee-code-postal</td>\n",
       "      <td>5dafb17034a89d9617fa809c29eddb93a8b85473</td>\n",
       "      <td>2016-09-21T00:29:06.175+02:00</td>\n",
       "      <td>493</td>\n",
       "      <td>VAL-D'OISE</td>\n",
       "      <td>Commune simple</td>\n",
       "      <td>69.0</td>\n",
       "      <td>ILE-DE-FRANCE</td>\n",
       "      <td>11</td>\n",
       "      <td>95493</td>\n",
       "      <td>...</td>\n",
       "      <td>36092</td>\n",
       "      <td>15</td>\n",
       "      <td>Polygon</td>\n",
       "      <td>[[[2.453733775279555, 49.08963108830741], [2.4...</td>\n",
       "      <td>91.0</td>\n",
       "      <td>LE PLESSIS-LUZARCHES</td>\n",
       "      <td>2</td>\n",
       "      <td>0.1</td>\n",
       "      <td>Point</td>\n",
       "      <td>[2.4547564431234923, 49.09572967201378]</td>\n",
       "    </tr>\n",
       "  </tbody>\n",
       "</table>\n",
       "<p>1300 rows × 23 columns</p>\n",
       "</div>"
      ],
      "text/plain": [
       "                                   datasetid  \\\n",
       "0     correspondances-code-insee-code-postal   \n",
       "1     correspondances-code-insee-code-postal   \n",
       "2     correspondances-code-insee-code-postal   \n",
       "3     correspondances-code-insee-code-postal   \n",
       "4     correspondances-code-insee-code-postal   \n",
       "...                                      ...   \n",
       "1295  correspondances-code-insee-code-postal   \n",
       "1296  correspondances-code-insee-code-postal   \n",
       "1297  correspondances-code-insee-code-postal   \n",
       "1298  correspondances-code-insee-code-postal   \n",
       "1299  correspondances-code-insee-code-postal   \n",
       "\n",
       "                                      recordid               record_timestamp  \\\n",
       "0     2bf36b38314b6c39dfbcd09225f97fa532b1fc45  2016-09-21T00:29:06.175+02:00   \n",
       "1     7ee82e74e059b443df18bb79fc5a19b1f05e5a88  2016-09-21T00:29:06.175+02:00   \n",
       "2     e2cd3186f07286705ed482a10b6aebd9de633c81  2016-09-21T00:29:06.175+02:00   \n",
       "3     868bf03527a1d0a9defe5cf4e6fa0a730d725699  2016-09-21T00:29:06.175+02:00   \n",
       "4     21e809b1d4480333c8b6fe7addd8f3b06f343e2c  2016-09-21T00:29:06.175+02:00   \n",
       "...                                        ...                            ...   \n",
       "1295  e48340f14024559a7602be7aa5167cf2af29b459  2016-09-21T00:29:06.175+02:00   \n",
       "1296  64afe3728721b9954d7f2da353419df0d4b88b4e  2016-09-21T00:29:06.175+02:00   \n",
       "1297  24353a5117491797d2ef35d0ab6a179b6d9c254f  2016-09-21T00:29:06.175+02:00   \n",
       "1298  47a9cca82e7c9fdea46fa74a7731f9be64785b09  2016-09-21T00:29:06.175+02:00   \n",
       "1299  5dafb17034a89d9617fa809c29eddb93a8b85473  2016-09-21T00:29:06.175+02:00   \n",
       "\n",
       "     fields.code_comm    fields.nom_dept     fields.statut  fields.z_moyen  \\\n",
       "0                 645            ESSONNE    Commune simple           121.0   \n",
       "1                 133     SEINE-ET-MARNE    Commune simple            88.0   \n",
       "2                 378            ESSONNE    Commune simple           150.0   \n",
       "3                 243     SEINE-ET-MARNE  Chef-lieu canton            71.0   \n",
       "4                 003       VAL-DE-MARNE  Chef-lieu canton            70.0   \n",
       "...               ...                ...               ...             ...   \n",
       "1295              068     SEINE-ET-MARNE    Commune simple           137.0   \n",
       "1296              078  SEINE-SAINT-DENIS  Chef-lieu canton            65.0   \n",
       "1297              061     SEINE-ET-MARNE    Commune simple            60.0   \n",
       "1298              677           YVELINES    Commune simple            96.0   \n",
       "1299              493         VAL-D'OISE    Commune simple            69.0   \n",
       "\n",
       "     fields.nom_region fields.code_reg fields.insee_com  ... fields.id_geofla  \\\n",
       "0        ILE-DE-FRANCE              11            91645  ...            16275   \n",
       "1        ILE-DE-FRANCE              11            77133  ...            31428   \n",
       "2        ILE-DE-FRANCE              11            91378  ...            30975   \n",
       "3        ILE-DE-FRANCE              11            77243  ...            17000   \n",
       "4        ILE-DE-FRANCE              11            94003  ...            32123   \n",
       "...                ...             ...              ...  ...              ...   \n",
       "1295     ILE-DE-FRANCE              11            77068  ...            21587   \n",
       "1296     ILE-DE-FRANCE              11            93078  ...            24704   \n",
       "1297     ILE-DE-FRANCE              11            77061  ...            20172   \n",
       "1298     ILE-DE-FRANCE              11            78677  ...            24364   \n",
       "1299     ILE-DE-FRANCE              11            95493  ...            36092   \n",
       "\n",
       "     fields.code_cant fields.geo_shape.type  \\\n",
       "0                  03               Polygon   \n",
       "1                  20               Polygon   \n",
       "2                  09               Polygon   \n",
       "3                  14               Polygon   \n",
       "4                  34               Polygon   \n",
       "...               ...                   ...   \n",
       "1295               10               Polygon   \n",
       "1296               40               Polygon   \n",
       "1297               20               Polygon   \n",
       "1298               07               Polygon   \n",
       "1299               15               Polygon   \n",
       "\n",
       "                           fields.geo_shape.coordinates fields.superficie  \\\n",
       "0     [[[2.238024349288764, 48.735565859837095], [2....             999.0   \n",
       "1     [[[3.076046701822989, 48.397361878531605], [3....            1082.0   \n",
       "2     [[[2.203466690733517, 48.51655284725087], [2.1...             313.0   \n",
       "3     [[[2.727542158243183, 48.85975862454365], [2.7...             579.0   \n",
       "4     [[[2.34385114554979, 48.79766105911435], [2.32...             232.0   \n",
       "...                                                 ...               ...   \n",
       "1295  [[[3.161508435480842, 48.49807082682062], [3.1...             529.0   \n",
       "1296  [[[2.557045023117815, 48.935302946618414], [2....            1042.0   \n",
       "1297  [[[3.004939078607779, 48.33869986171514], [3.0...             862.0   \n",
       "1298  [[[1.702290092689364, 48.91216884312589], [1.6...             462.0   \n",
       "1299  [[[2.453733775279555, 49.08963108830741], [2.4...              91.0   \n",
       "\n",
       "           fields.nom_comm fields.code_arr  fields.population geometry.type  \\\n",
       "0     VERRIERES-LE-BUISSON               3               15.5         Point   \n",
       "1     COURCELLES-EN-BASSEE               3                0.2         Point   \n",
       "2                MAUCHAMPS               1                0.3         Point   \n",
       "3          LAGNY-SUR-MARNE               5               20.2         Point   \n",
       "4                  ARCUEIL               3               19.5         Point   \n",
       "...                    ...             ...                ...           ...   \n",
       "1295     CESSOY-EN-MONTOIS               3                0.2         Point   \n",
       "1296            VILLEPINTE               2               35.7         Point   \n",
       "1297         CANNES-ECLUSE               3                2.6         Point   \n",
       "1298              VILLETTE               1                0.5         Point   \n",
       "1299  LE PLESSIS-LUZARCHES               2                0.1         Point   \n",
       "\n",
       "                         geometry.coordinates  \n",
       "0     [2.251712972144151, 48.750443119964764]  \n",
       "1      [3.052940505560729, 48.41256065214989]  \n",
       "2       [2.19718165044305, 48.52726809075556]  \n",
       "3     [2.7097808131278462, 48.87307018579678]  \n",
       "4      [2.333510249842654, 48.80588035965699]  \n",
       "...                                       ...  \n",
       "1295   [3.138844194183689, 48.50730730461658]  \n",
       "1296   [2.536306342059409, 48.95902025378707]  \n",
       "1297   [2.990786679832767, 48.36403767307805]  \n",
       "1298  [1.6937417245662671, 48.92627887061508]  \n",
       "1299  [2.4547564431234923, 49.09572967201378]  \n",
       "\n",
       "[1300 rows x 23 columns]"
      ]
     },
     "execution_count": 158,
     "metadata": {},
     "output_type": "execute_result"
    }
   ],
   "source": [
    "import json\n",
    "import pandas as pd\n",
    "from pandas.io.json import json_normalize\n",
    "\n",
    "file = open('datasets/correspondances-code-insee-code-postal.json', \"r\")\n",
    "text = file.read()\n",
    "text = json.loads(text)\n",
    "\n",
    "df = pd.DataFrame(json_normalize(text))\n",
    "df"
   ]
  },
  {
   "cell_type": "markdown",
   "id": "recognized-nicaragua",
   "metadata": {},
   "source": [
    "## Select Features"
   ]
  },
  {
   "cell_type": "code",
   "execution_count": 160,
   "id": "promotional-martial",
   "metadata": {},
   "outputs": [
    {
     "data": {
      "text/html": [
       "<div>\n",
       "<style scoped>\n",
       "    .dataframe tbody tr th:only-of-type {\n",
       "        vertical-align: middle;\n",
       "    }\n",
       "\n",
       "    .dataframe tbody tr th {\n",
       "        vertical-align: top;\n",
       "    }\n",
       "\n",
       "    .dataframe thead th {\n",
       "        text-align: right;\n",
       "    }\n",
       "</style>\n",
       "<table border=\"1\" class=\"dataframe\">\n",
       "  <thead>\n",
       "    <tr style=\"text-align: right;\">\n",
       "      <th></th>\n",
       "      <th>postal_code</th>\n",
       "      <th>nom_comm</th>\n",
       "      <th>nom_dept</th>\n",
       "      <th>geo_point_2d</th>\n",
       "    </tr>\n",
       "  </thead>\n",
       "  <tbody>\n",
       "    <tr>\n",
       "      <th>0</th>\n",
       "      <td>91370</td>\n",
       "      <td>VERRIERES-LE-BUISSON</td>\n",
       "      <td>ESSONNE</td>\n",
       "      <td>[48.750443119964764, 2.251712972144151]</td>\n",
       "    </tr>\n",
       "    <tr>\n",
       "      <th>1</th>\n",
       "      <td>77126</td>\n",
       "      <td>COURCELLES-EN-BASSEE</td>\n",
       "      <td>SEINE-ET-MARNE</td>\n",
       "      <td>[48.41256065214989, 3.052940505560729]</td>\n",
       "    </tr>\n",
       "    <tr>\n",
       "      <th>2</th>\n",
       "      <td>91730</td>\n",
       "      <td>MAUCHAMPS</td>\n",
       "      <td>ESSONNE</td>\n",
       "      <td>[48.52726809075556, 2.19718165044305]</td>\n",
       "    </tr>\n",
       "    <tr>\n",
       "      <th>3</th>\n",
       "      <td>77400</td>\n",
       "      <td>LAGNY-SUR-MARNE</td>\n",
       "      <td>SEINE-ET-MARNE</td>\n",
       "      <td>[48.87307018579678, 2.7097808131278462]</td>\n",
       "    </tr>\n",
       "    <tr>\n",
       "      <th>4</th>\n",
       "      <td>94110</td>\n",
       "      <td>ARCUEIL</td>\n",
       "      <td>VAL-DE-MARNE</td>\n",
       "      <td>[48.80588035965699, 2.333510249842654]</td>\n",
       "    </tr>\n",
       "  </tbody>\n",
       "</table>\n",
       "</div>"
      ],
      "text/plain": [
       "  postal_code              nom_comm        nom_dept  \\\n",
       "0       91370  VERRIERES-LE-BUISSON         ESSONNE   \n",
       "1       77126  COURCELLES-EN-BASSEE  SEINE-ET-MARNE   \n",
       "2       91730             MAUCHAMPS         ESSONNE   \n",
       "3       77400       LAGNY-SUR-MARNE  SEINE-ET-MARNE   \n",
       "4       94110               ARCUEIL    VAL-DE-MARNE   \n",
       "\n",
       "                              geo_point_2d  \n",
       "0  [48.750443119964764, 2.251712972144151]  \n",
       "1   [48.41256065214989, 3.052940505560729]  \n",
       "2    [48.52726809075556, 2.19718165044305]  \n",
       "3  [48.87307018579678, 2.7097808131278462]  \n",
       "4   [48.80588035965699, 2.333510249842654]  "
      ]
     },
     "execution_count": 160,
     "metadata": {},
     "output_type": "execute_result"
    }
   ],
   "source": [
    "communes_paris_df = df[['fields.postal_code','fields.nom_comm','fields.nom_dept','fields.geo_point_2d']]\n",
    "communes_paris_df.columns = ['postal_code','nom_comm','nom_dept','geo_point_2d']\n",
    "communes_paris_df.head()"
   ]
  },
  {
   "cell_type": "markdown",
   "id": "contrary-fishing",
   "metadata": {},
   "source": [
    "## Gelocations Neighbourhoods Paris"
   ]
  },
  {
   "cell_type": "code",
   "execution_count": 161,
   "id": "false-mentor",
   "metadata": {
    "scrolled": true
   },
   "outputs": [
    {
     "data": {
      "text/html": [
       "<div>\n",
       "<style scoped>\n",
       "    .dataframe tbody tr th:only-of-type {\n",
       "        vertical-align: middle;\n",
       "    }\n",
       "\n",
       "    .dataframe tbody tr th {\n",
       "        vertical-align: top;\n",
       "    }\n",
       "\n",
       "    .dataframe thead th {\n",
       "        text-align: right;\n",
       "    }\n",
       "</style>\n",
       "<table border=\"1\" class=\"dataframe\">\n",
       "  <thead>\n",
       "    <tr style=\"text-align: right;\">\n",
       "      <th></th>\n",
       "      <th>postal_code</th>\n",
       "      <th>nom_comm</th>\n",
       "      <th>nom_dept</th>\n",
       "      <th>latitude</th>\n",
       "      <th>longitude</th>\n",
       "    </tr>\n",
       "  </thead>\n",
       "  <tbody>\n",
       "    <tr>\n",
       "      <th>0</th>\n",
       "      <td>91370</td>\n",
       "      <td>VERRIERES-LE-BUISSON</td>\n",
       "      <td>ESSONNE</td>\n",
       "      <td>48.750443</td>\n",
       "      <td>2.251713</td>\n",
       "    </tr>\n",
       "    <tr>\n",
       "      <th>1</th>\n",
       "      <td>77126</td>\n",
       "      <td>COURCELLES-EN-BASSEE</td>\n",
       "      <td>SEINE-ET-MARNE</td>\n",
       "      <td>48.412561</td>\n",
       "      <td>3.052941</td>\n",
       "    </tr>\n",
       "    <tr>\n",
       "      <th>2</th>\n",
       "      <td>91730</td>\n",
       "      <td>MAUCHAMPS</td>\n",
       "      <td>ESSONNE</td>\n",
       "      <td>48.527268</td>\n",
       "      <td>2.197182</td>\n",
       "    </tr>\n",
       "    <tr>\n",
       "      <th>3</th>\n",
       "      <td>77400</td>\n",
       "      <td>LAGNY-SUR-MARNE</td>\n",
       "      <td>SEINE-ET-MARNE</td>\n",
       "      <td>48.873070</td>\n",
       "      <td>2.709781</td>\n",
       "    </tr>\n",
       "    <tr>\n",
       "      <th>4</th>\n",
       "      <td>94110</td>\n",
       "      <td>ARCUEIL</td>\n",
       "      <td>VAL-DE-MARNE</td>\n",
       "      <td>48.805880</td>\n",
       "      <td>2.333510</td>\n",
       "    </tr>\n",
       "  </tbody>\n",
       "</table>\n",
       "</div>"
      ],
      "text/plain": [
       "  postal_code              nom_comm        nom_dept   latitude  longitude\n",
       "0       91370  VERRIERES-LE-BUISSON         ESSONNE  48.750443   2.251713\n",
       "1       77126  COURCELLES-EN-BASSEE  SEINE-ET-MARNE  48.412561   3.052941\n",
       "2       91730             MAUCHAMPS         ESSONNE  48.527268   2.197182\n",
       "3       77400       LAGNY-SUR-MARNE  SEINE-ET-MARNE  48.873070   2.709781\n",
       "4       94110               ARCUEIL    VAL-DE-MARNE  48.805880   2.333510"
      ]
     },
     "execution_count": 161,
     "metadata": {},
     "output_type": "execute_result"
    }
   ],
   "source": [
    "communes_paris_df['latitude'] = communes_paris_df['geo_point_2d'].apply(lambda x: float(x[0]))\n",
    "communes_paris_df['longitude'] = communes_paris_df['geo_point_2d'].apply(lambda x: float(x[1]))\n",
    "communes_paris_df.drop(['geo_point_2d'], axis=1, inplace=True)\n",
    "communes_paris_df.head()"
   ]
  },
  {
   "cell_type": "code",
   "execution_count": 172,
   "id": "acknowledged-yahoo",
   "metadata": {},
   "outputs": [
    {
     "data": {
      "text/plain": [
       "(1300, 5)"
      ]
     },
     "execution_count": 172,
     "metadata": {},
     "output_type": "execute_result"
    }
   ],
   "source": [
    "communes_paris_df.shape"
   ]
  },
  {
   "cell_type": "markdown",
   "id": "comfortable-grave",
   "metadata": {},
   "source": [
    "The free Foursquare API only offer 950 regular calls per day, we have to spilt the dataframe into two "
   ]
  },
  {
   "cell_type": "code",
   "execution_count": 173,
   "id": "herbal-colonial",
   "metadata": {},
   "outputs": [],
   "source": [
    "communes_paris_df1 = communes_paris_df.head(700)\n",
    "communes_paris_df2 = communes_paris_df.tail(600)"
   ]
  },
  {
   "cell_type": "markdown",
   "id": "standing-equality",
   "metadata": {},
   "source": [
    "## Function to get the geo 2D position"
   ]
  },
  {
   "cell_type": "code",
   "execution_count": 162,
   "id": "complicated-pregnancy",
   "metadata": {},
   "outputs": [],
   "source": [
    "# For France\n",
    "def get_2D_FR(address):\n",
    "    lat_coords = 0\n",
    "    lng_coords = 0\n",
    "    g = geocode(address='{}, France'.format(address))[0]\n",
    "    lng_coords = g['location']['x']\n",
    "    lat_coords = g['location']['y']\n",
    "    return [str(lat_coords), str(lng_coords)]"
   ]
  },
  {
   "cell_type": "code",
   "execution_count": 163,
   "id": "manufactured-jacksonville",
   "metadata": {},
   "outputs": [
    {
     "data": {
      "text/plain": [
       "['48.85717000000005', '2.3414000000000215']"
      ]
     },
     "execution_count": 163,
     "metadata": {},
     "output_type": "execute_result"
    }
   ],
   "source": [
    "paris_loc = get_2D_FR('paris')\n",
    "paris_loc"
   ]
  }
 ],
 "metadata": {
  "kernelspec": {
   "display_name": "Python 3",
   "language": "python",
   "name": "python3"
  },
  "language_info": {
   "codemirror_mode": {
    "name": "ipython",
    "version": 3
   },
   "file_extension": ".py",
   "mimetype": "text/x-python",
   "name": "python",
   "nbconvert_exporter": "python",
   "pygments_lexer": "ipython3",
   "version": "3.8.5"
  },
  "toc": {
   "base_numbering": 1,
   "nav_menu": {},
   "number_sections": true,
   "sideBar": true,
   "skip_h1_title": false,
   "title_cell": "Table of Contents",
   "title_sidebar": "Contents",
   "toc_cell": false,
   "toc_position": {},
   "toc_section_display": true,
   "toc_window_display": false
  }
 },
 "nbformat": 4,
 "nbformat_minor": 5
}
